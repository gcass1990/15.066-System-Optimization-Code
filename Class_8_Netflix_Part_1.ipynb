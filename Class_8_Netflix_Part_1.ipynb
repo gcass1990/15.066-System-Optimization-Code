{
 "cells": [
  {
   "cell_type": "code",
   "execution_count": 1,
   "metadata": {},
   "outputs": [],
   "source": [
    "import numpy as np\n",
    "import gurobipy as gp\n",
    "import json"
   ]
  },
  {
   "cell_type": "markdown",
   "metadata": {},
   "source": [
    "The cell below loads data from a json file, and adds it into dictionaries; you should spend a few minutes to wrap your head around the data-format here."
   ]
  },
  {
   "cell_type": "code",
   "execution_count": 2,
   "metadata": {},
   "outputs": [],
   "source": [
    "with open('netflix_data.json') as json_file:\n",
    "    data = json.load(json_file)\n",
    "\n",
    "num_shows = data['num_shows'] # integer, denotes the number of shows that are being discussed\n",
    "num_households = data['num_households'] # integer, denotes the number of households that may subscribe\n",
    "production_budget = data['production_budget'] # integer, denotes the budget for shows to be produced\n",
    "costs = {} # has as key shows (int) and as values the cost (int) of producing them\n",
    "household_activation_utilities = {} # has as key households (int) and as values the threshold (int) at which they subscribe\n",
    "show_utilities = {} # has as key households (int) and as values the utility a household gets from a show (int) \n",
    "show_utilities_uhd = {} # has as key households (int) and as values the utility a household gets from a show in UHD (int) \n",
    "uhd_household_threshold = {} # has as key households (int) and as values the threshold (int) at which they subscribe in UHD (if they subscribe) \n",
    "demographic = {} # has as key households and as values an integer from 0 to 4\n",
    "for j in range(num_shows):\n",
    "    costs[j] = int(data['costs'][str(j)])\n",
    "for i in range(num_households):\n",
    "    household_activation_utilities[i] = int(data['household_activation_utilities'][str(i)])\n",
    "    uhd_household_threshold[i] = int(data['uhd_household_threshold'][str(i)])\n",
    "    demographic[i] = int(data['demographic'][str(i)])\n",
    "    show_utilities[i], show_utilities_uhd[i] = {}, {}\n",
    "    for j in range(num_shows):\n",
    "        show_utilities[i][j] = int(data['show_utilities'][str(i)][str(j)])\n",
    "        show_utilities_uhd[i][j] = int(data['show_utilities_uhd'][str(i)][str(j)])"
   ]
  },
  {
   "cell_type": "markdown",
   "metadata": {},
   "source": [
    "Below we implement the very first IP from class."
   ]
  },
  {
   "cell_type": "code",
   "execution_count": 3,
   "metadata": {
    "scrolled": false
   },
   "outputs": [
    {
     "name": "stdout",
     "output_type": "stream",
     "text": [
      "Using license file /Users/dfreund/gurobi.lic\n",
      "Academic license - for non-commercial use only\n",
      "Gurobi Optimizer version 9.0.2 build v9.0.2rc0 (mac64)\n",
      "Optimize a model with 501 rows, 530 columns and 3518 nonzeros\n",
      "Model fingerprint: 0xae1caa67\n",
      "Variable types: 0 continuous, 530 integer (530 binary)\n",
      "Coefficient statistics:\n",
      "  Matrix range     [1e+00, 1e+02]\n",
      "  Objective range  [1e+00, 1e+00]\n",
      "  Bounds range     [1e+00, 1e+00]\n",
      "  RHS range        [5e+02, 5e+02]\n",
      "Found heuristic solution: objective 44.0000000\n",
      "Presolve removed 202 rows and 202 columns\n",
      "Presolve time: 0.01s\n",
      "Presolved: 299 rows, 328 columns, 2345 nonzeros\n",
      "Variable types: 0 continuous, 328 integer (328 binary)\n",
      "\n",
      "Root relaxation: objective 2.704334e+02, 572 iterations, 0.01 seconds\n",
      "\n",
      "    Nodes    |    Current Node    |     Objective Bounds      |     Work\n",
      " Expl Unexpl |  Obj  Depth IntInf | Incumbent    BestBd   Gap | It/Node Time\n",
      "\n",
      "     0     0  270.43337    0  157   44.00000  270.43337   515%     -    0s\n",
      "H    0     0                     189.0000000  270.43337  43.1%     -    0s\n",
      "H    0     0                     192.0000000  270.43337  40.9%     -    0s\n",
      "     0     0  239.57785    0  215  192.00000  239.57785  24.8%     -    0s\n",
      "     0     0  238.13741    0  221  192.00000  238.13741  24.0%     -    0s\n",
      "     0     0  237.94271    0  222  192.00000  237.94271  23.9%     -    0s\n",
      "     0     0  237.92646    0  224  192.00000  237.92646  23.9%     -    0s\n",
      "     0     0  237.91984    0  223  192.00000  237.91984  23.9%     -    0s\n",
      "H    0     0                     195.0000000  237.91984  22.0%     -    0s\n",
      "     0     0  233.21720    0  230  195.00000  233.21720  19.6%     -    0s\n",
      "     0     0  232.79480    0  229  195.00000  232.79480  19.4%     -    0s\n",
      "     0     0  232.63741    0  232  195.00000  232.63741  19.3%     -    0s\n",
      "     0     0  232.58865    0  232  195.00000  232.58865  19.3%     -    0s\n",
      "     0     0  232.57655    0  233  195.00000  232.57655  19.3%     -    0s\n",
      "     0     0  231.60230    0  234  195.00000  231.60230  18.8%     -    0s\n",
      "     0     0  231.25311    0  233  195.00000  231.25311  18.6%     -    0s\n",
      "     0     0  231.10729    0  233  195.00000  231.10729  18.5%     -    0s\n",
      "     0     0  231.02484    0  234  195.00000  231.02484  18.5%     -    0s\n",
      "     0     0  231.00058    0  234  195.00000  231.00058  18.5%     -    0s\n",
      "     0     0  229.77966    0  239  195.00000  229.77966  17.8%     -    0s\n",
      "     0     0  229.75400    0  239  195.00000  229.75400  17.8%     -    0s\n",
      "     0     0  229.30113    0  239  195.00000  229.30113  17.6%     -    0s\n",
      "     0     0  229.16625    0  242  195.00000  229.16625  17.5%     -    0s\n",
      "     0     0  229.10393    0  240  195.00000  229.10393  17.5%     -    0s\n",
      "     0     0  229.09344    0  242  195.00000  229.09344  17.5%     -    0s\n",
      "     0     0  228.92682    0  242  195.00000  228.92682  17.4%     -    0s\n",
      "     0     0  228.92682    0  239  195.00000  228.92682  17.4%     -    0s\n",
      "     0     2  228.92682    0  239  195.00000  228.92682  17.4%     -    0s\n",
      "  2292  1004  216.72866   23  166  195.00000  216.72866  11.1%  74.3    5s\n",
      "  5082  1216  199.41990   27   52  195.00000  215.21595  10.4%  79.5   10s\n",
      "  9942  2273  204.73353   24  144  195.00000  211.92524  8.68%  75.6   16s\n",
      " 13698  3164  201.96749   20   88  195.00000  210.57469  7.99%  73.3   20s\n",
      " 17899  3798     cutoff   34       195.00000  209.25155  7.31%  71.2   25s\n",
      " 24588  4365  200.41601   23  119  195.00000  207.91346  6.62%  68.5   30s\n",
      " 29959  4615     cutoff   29       195.00000  206.93196  6.12%  66.7   42s\n",
      " 33492  4531  201.83927   27   86  195.00000  206.35421  5.82%  65.7   45s\n",
      " 41800  4019  199.00755   28  108  195.00000  204.99865  5.13%  64.4   50s\n",
      " 49541  3065  198.07368   28   77  195.00000  203.60620  4.41%  63.2   55s\n",
      " 57926   876     cutoff   31       195.00000  201.33197  3.25%  61.8   60s\n",
      "\n",
      "Cutting planes:\n",
      "  Gomory: 12\n",
      "  Cover: 176\n",
      "  MIR: 297\n",
      "  StrongCG: 20\n",
      "  Flow cover: 186\n",
      "  GUB cover: 28\n",
      "  Zero half: 76\n",
      "  RLT: 50\n",
      "\n",
      "Explored 60126 nodes (3683309 simplex iterations) in 60.78 seconds\n",
      "Thread count was 8 (of 8 available processors)\n",
      "\n",
      "Solution count 4: 195 192 189 44 \n",
      "\n",
      "Optimal solution found (tolerance 1.00e-04)\n",
      "Best objective 1.950000000000e+02, best bound 1.950000000000e+02, gap 0.0000%\n"
     ]
    }
   ],
   "source": [
    "m1 = gp.Model('netflix_1')\n",
    "\n",
    "# We first create a binary variable for every household and every show\n",
    "# Household: does this household subscribe\n",
    "# Show: is this show being produced\n",
    "\n",
    "produce_show_1 = {}\n",
    "for j in range(num_shows):\n",
    "    produce_show_1[j] = m1.addVar(vtype=gp.GRB.BINARY)\n",
    "subscribe_home_1 = {}\n",
    "for i in range(num_households):\n",
    "    subscribe_home_1[i] = m1.addVar(vtype=gp.GRB.BINARY)\n",
    "\n",
    "# Constraint 1: budget on show costs\n",
    "total_cost = 0\n",
    "# m.addConstr(sum(produce_show_1[j] * costs[j] \n",
    "#                 for j in range(num_households))\n",
    "for j in range(num_shows):\n",
    "    total_cost += produce_show_1[j] * costs[j]\n",
    "cost_constraint = m1.addConstr(total_cost <= production_budget)    \n",
    "\n",
    "# Constraint 2: households only subscribe if shows fulfill their utility bound\n",
    "for i in range(num_households):\n",
    "    house_utility = 0\n",
    "    for j in range(num_shows):\n",
    "        house_utility+= show_utilities[i][j] * produce_show_1[j]\n",
    "    m1.addConstr(house_utility >= subscribe_home_1[i] * household_activation_utilities[i])\n",
    "    \n",
    "# Define objective by summing up the number of subscriptions    \n",
    "number_subscriptions = 0\n",
    "for i in range(num_households):\n",
    "    number_subscriptions += subscribe_home_1[i]\n",
    "m1.setObjective( number_subscriptions, gp.GRB.MAXIMIZE)\n",
    "\n",
    "m1.optimize()"
   ]
  },
  {
   "cell_type": "markdown",
   "metadata": {},
   "source": [
    "We get an objective of 195 subscribers by producing the following shows."
   ]
  },
  {
   "cell_type": "code",
   "execution_count": 4,
   "metadata": {},
   "outputs": [
    {
     "name": "stdout",
     "output_type": "stream",
     "text": [
      "[1, 2, 7, 9, 14, 17, 18, 20, 21, 22, 23, 25, 27]\n"
     ]
    }
   ],
   "source": [
    "shows_to_produce = []\n",
    "for j in range(num_shows):\n",
    "    if (produce_show_1[j]).x>0: \n",
    "        shows_to_produce.append(j)   \n",
    "print(shows_to_produce)"
   ]
  },
  {
   "cell_type": "markdown",
   "metadata": {},
   "source": [
    "Just to answer the question from class what would happen if we had continuous variables instead, let's run that really quick:"
   ]
  },
  {
   "cell_type": "code",
   "execution_count": 5,
   "metadata": {},
   "outputs": [
    {
     "name": "stdout",
     "output_type": "stream",
     "text": [
      "Gurobi Optimizer version 9.0.2 build v9.0.2rc0 (mac64)\n",
      "Optimize a model with 501 rows, 530 columns and 3518 nonzeros\n",
      "Model fingerprint: 0xe99493b0\n",
      "Coefficient statistics:\n",
      "  Matrix range     [1e+00, 1e+02]\n",
      "  Objective range  [1e+00, 1e+00]\n",
      "  Bounds range     [1e+00, 1e+00]\n",
      "  RHS range        [5e+02, 5e+02]\n",
      "Presolve removed 239 rows and 239 columns\n",
      "Presolve time: 0.01s\n",
      "Presolved: 262 rows, 291 columns, 2114 nonzeros\n",
      "\n",
      "Iteration    Objective       Primal Inf.    Dual Inf.      Time\n",
      "       0    3.6042857e+02   3.703815e+02   0.000000e+00      0s\n",
      "     181    3.1384314e+02   0.000000e+00   0.000000e+00      0s\n",
      "\n",
      "Solved in 181 iterations and 0.01 seconds\n",
      "Optimal objective  3.138431393e+02\n"
     ]
    }
   ],
   "source": [
    "m1lp = gp.Model('netflix_1_lp')\n",
    "\n",
    "# We first create a binary variable for every household and every show\n",
    "# Household: does this household subscribe\n",
    "# Show: is this show being produced\n",
    "\n",
    "produce_show_1lp = {}\n",
    "for j in range(num_shows):\n",
    "    produce_show_1lp[j] = m1lp.addVar(lb=0, ub=1)\n",
    "subscribe_home_1lp = {}\n",
    "for i in range(num_households):\n",
    "    subscribe_home_1lp[i] = m1lp.addVar(lb=0, ub=1)\n",
    "\n",
    "# Constraint 1: budget on show costs\n",
    "total_cost = 0\n",
    "for j in range(num_shows):\n",
    "    total_cost += produce_show_1lp[j] * costs[j]\n",
    "cost_constraint = m1lp.addConstr(total_cost <= production_budget)    \n",
    "\n",
    "# Constraint 2: households only subscribe if shows fulfill their utility bound\n",
    "for i in range(num_households):\n",
    "    house_utility = 0\n",
    "    for j in range(num_shows):\n",
    "        house_utility+= show_utilities[i][j] * produce_show_1lp[j]\n",
    "    m1lp.addConstr(house_utility >= subscribe_home_1lp[i] * household_activation_utilities[i])\n",
    "    \n",
    "\n",
    "# Define objective by summing up the number of subscriptions    \n",
    "number_subscriptions = 0\n",
    "for i in range(num_households):\n",
    "    number_subscriptions += subscribe_home_1lp[i]\n",
    "m1lp.setObjective( number_subscriptions, gp.GRB.MAXIMIZE)\n",
    "\n",
    "m1lp.optimize()"
   ]
  },
  {
   "cell_type": "markdown",
   "metadata": {},
   "source": [
    "Quite noticeably two things happen: (1) we solve (almost) instantaneously instead of taking 1.5--2 minutes, and (2) we get a much higher objective; 313 instead of 195. Can we use the LP-solution to determine which shows to produce? Let's look at all the shows that the LP solution gives a positive objective to and their resulting cost."
   ]
  },
  {
   "cell_type": "code",
   "execution_count": 6,
   "metadata": {},
   "outputs": [
    {
     "name": "stdout",
     "output_type": "stream",
     "text": [
      "528\n"
     ]
    }
   ],
   "source": [
    "shows_to_produce = []\n",
    "total_cost = 0\n",
    "for j in range(num_shows):\n",
    "    if (produce_show_1lp[j]).x>0: \n",
    "        shows_to_produce.append(j)   \n",
    "        total_cost += costs[j]\n",
    "print(total_cost)"
   ]
  },
  {
   "cell_type": "markdown",
   "metadata": {},
   "source": [
    "This violates our budget; however, we could instead use only the shows to which the LP solution gives a value of 1; this is guaranteed to give a feasible solution (can you see why?)."
   ]
  },
  {
   "cell_type": "code",
   "execution_count": 7,
   "metadata": {},
   "outputs": [
    {
     "name": "stdout",
     "output_type": "stream",
     "text": [
      "483\n"
     ]
    }
   ],
   "source": [
    "shows_to_produce = []\n",
    "total_cost = 0\n",
    "for j in range(num_shows):\n",
    "    if (produce_show_1lp[j]).x==1: \n",
    "        shows_to_produce.append(j)   \n",
    "        total_cost += costs[j]\n",
    "print(total_cost)"
   ]
  },
  {
   "cell_type": "markdown",
   "metadata": {},
   "source": [
    "Furthermore, it turns out that this gives the exact same solution as the IP did."
   ]
  },
  {
   "cell_type": "code",
   "execution_count": 8,
   "metadata": {},
   "outputs": [
    {
     "data": {
      "text/plain": [
       "[1, 2, 7, 9, 14, 17, 18, 20, 21, 22, 23, 25, 27]"
      ]
     },
     "execution_count": 8,
     "metadata": {},
     "output_type": "execute_result"
    }
   ],
   "source": [
    "shows_to_produce"
   ]
  },
  {
   "cell_type": "markdown",
   "metadata": {},
   "source": [
    "Is this true in general? Can we always just round down and get the optimal solution? The answer is no; you can try to come up with an example of input data for this problem that demonstrates as much (e.g., remember the controller from the Knapsack example in class; this here is similar)! =)"
   ]
  }
 ],
 "metadata": {
  "kernelspec": {
   "display_name": "Python 3",
   "language": "python",
   "name": "python3"
  },
  "language_info": {
   "codemirror_mode": {
    "name": "ipython",
    "version": 3
   },
   "file_extension": ".py",
   "mimetype": "text/x-python",
   "name": "python",
   "nbconvert_exporter": "python",
   "pygments_lexer": "ipython3",
   "version": "3.7.3"
  }
 },
 "nbformat": 4,
 "nbformat_minor": 2
}
