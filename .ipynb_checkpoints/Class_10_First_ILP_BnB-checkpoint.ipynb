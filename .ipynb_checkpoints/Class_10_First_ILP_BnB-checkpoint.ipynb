{
 "cells": [
  {
   "cell_type": "code",
   "execution_count": 2,
   "metadata": {},
   "outputs": [
    {
     "name": "stdout",
     "output_type": "stream",
     "text": [
      "Gurobi Optimizer version 9.0.2 build v9.0.2rc0 (mac64)\n",
      "Optimize a model with 2 rows, 2 columns and 4 nonzeros\n",
      "Model fingerprint: 0x562e43b2\n",
      "Coefficient statistics:\n",
      "  Matrix range     [1e+00, 3e+00]\n",
      "  Objective range  [1e+00, 1e+00]\n",
      "  Bounds range     [2e+01, 2e+01]\n",
      "  RHS range        [1e+01, 1e+01]\n",
      "Presolve removed 2 rows and 2 columns\n",
      "Presolve time: 0.01s\n",
      "Presolve: All rows and columns removed\n",
      "Iteration    Objective       Primal Inf.    Dual Inf.      Time\n",
      "       0    1.3333333e+01   0.000000e+00   0.000000e+00      0s\n",
      "\n",
      "Solved in 0 iterations and 0.01 seconds\n",
      "Optimal objective  1.333333333e+01\n",
      "15.0 -1.6666666666666667\n"
     ]
    }
   ],
   "source": [
    "import gurobipy as gp\n",
    "m = gp.Model(\"first_ilp_relaxed\")\n",
    "x=m.addVar(lb=0,ub=15)\n",
    "y=m.addVar(lb=-gp.GRB.INFINITY,ub=gp.GRB.INFINITY)\n",
    "m.addConstr(x+3*y <= 10)\n",
    "m.addConstr(-2*x+y <= 0)\n",
    "m.setObjective(x+y, gp.GRB.MAXIMIZE)\n",
    "m.optimize()\n",
    "print(x.x,y.x)"
   ]
  },
  {
   "cell_type": "code",
   "execution_count": 8,
   "metadata": {},
   "outputs": [
    {
     "name": "stdout",
     "output_type": "stream",
     "text": [
      "Gurobi Optimizer version 9.0.2 build v9.0.2rc0 (mac64)\n",
      "Optimize a model with 3 rows, 2 columns and 5 nonzeros\n",
      "Model fingerprint: 0x9e77490d\n",
      "Coefficient statistics:\n",
      "  Matrix range     [1e+00, 3e+00]\n",
      "  Objective range  [1e+00, 1e+00]\n",
      "  Bounds range     [2e+01, 2e+01]\n",
      "  RHS range        [2e+00, 1e+01]\n",
      "Presolve removed 3 rows and 2 columns\n",
      "Presolve time: 0.00s\n",
      "Presolve: All rows and columns removed\n",
      "Iteration    Objective       Primal Inf.    Dual Inf.      Time\n",
      "       0    1.3000000e+01   0.000000e+00   0.000000e+00      0s\n",
      "\n",
      "Solved in 0 iterations and 0.01 seconds\n",
      "Optimal objective  1.300000000e+01\n",
      "15.0 -2.0\n"
     ]
    }
   ],
   "source": [
    "import gurobipy as gp\n",
    "m = gp.Model(\"first_ilp_relaxed\")\n",
    "x=m.addVar(lb=0,ub=15)\n",
    "y=m.addVar(lb=-gp.GRB.INFINITY,ub=gp.GRB.INFINITY)\n",
    "m.addConstr(x+3*y <= 10)\n",
    "m.addConstr(-2*x+y <= 0)\n",
    "m.addConstr(y<=-2) #THIS IS THE NEW CONSTRAINT \n",
    "m.setObjective(x+y, gp.GRB.MAXIMIZE)\n",
    "m.optimize()\n",
    "print(x.x,y.x)"
   ]
  },
  {
   "cell_type": "code",
   "execution_count": 9,
   "metadata": {},
   "outputs": [
    {
     "name": "stdout",
     "output_type": "stream",
     "text": [
      "Gurobi Optimizer version 9.0.2 build v9.0.2rc0 (mac64)\n",
      "Optimize a model with 3 rows, 2 columns and 5 nonzeros\n",
      "Model fingerprint: 0xb6eca05c\n",
      "Coefficient statistics:\n",
      "  Matrix range     [1e+00, 3e+00]\n",
      "  Objective range  [1e+00, 1e+00]\n",
      "  Bounds range     [2e+01, 2e+01]\n",
      "  RHS range        [1e+00, 1e+01]\n",
      "Presolve removed 3 rows and 2 columns\n",
      "Presolve time: 0.00s\n",
      "Presolve: All rows and columns removed\n",
      "Iteration    Objective       Primal Inf.    Dual Inf.      Time\n",
      "       0    1.2000000e+01   0.000000e+00   0.000000e+00      0s\n",
      "\n",
      "Solved in 0 iterations and 0.01 seconds\n",
      "Optimal objective  1.200000000e+01\n",
      "13.0 -1.0\n"
     ]
    }
   ],
   "source": [
    "import gurobipy as gp\n",
    "m = gp.Model(\"first_ilp_relaxed\")\n",
    "x=m.addVar(lb=0,ub=15)\n",
    "y=m.addVar(lb=-gp.GRB.INFINITY,ub=gp.GRB.INFINITY)\n",
    "m.addConstr(x+3*y <= 10)\n",
    "m.addConstr(-2*x+y <= 0)\n",
    "m.addConstr(y>=-1) # THIS IS THE CONSTRAINT \n",
    "m.setObjective(x+y, gp.GRB.MAXIMIZE)\n",
    "m.optimize()\n",
    "print(x.x,y.x)"
   ]
  },
  {
   "cell_type": "code",
   "execution_count": 1,
   "metadata": {},
   "outputs": [
    {
     "name": "stdout",
     "output_type": "stream",
     "text": [
      "Using license file /Users/dfreund/gurobi.lic\n",
      "Academic license - for non-commercial use only\n",
      "Gurobi Optimizer version 9.0.2 build v9.0.2rc0 (mac64)\n",
      "Optimize a model with 2 rows, 2 columns and 4 nonzeros\n",
      "Model fingerprint: 0x6557e5f2\n",
      "Variable types: 0 continuous, 2 integer (0 binary)\n",
      "Coefficient statistics:\n",
      "  Matrix range     [1e+00, 3e+00]\n",
      "  Objective range  [1e+00, 1e+00]\n",
      "  Bounds range     [2e+01, 2e+01]\n",
      "  RHS range        [1e+01, 1e+01]\n",
      "Found heuristic solution: objective 10.0000000\n",
      "Found heuristic solution: objective 13.0000000\n",
      "Presolve removed 2 rows and 2 columns\n",
      "Presolve time: 0.00s\n",
      "Presolve: All rows and columns removed\n",
      "\n",
      "Explored 0 nodes (0 simplex iterations) in 0.01 seconds\n",
      "Thread count was 1 (of 8 available processors)\n",
      "\n",
      "Solution count 2: 13 \n",
      "\n",
      "Optimal solution found (tolerance 1.00e-04)\n",
      "Best objective 1.300000000000e+01, best bound 1.300000000000e+01, gap 0.0000%\n",
      "15.0 -2.0\n"
     ]
    }
   ],
   "source": [
    "import gurobipy as gp\n",
    "m = gp.Model(\"first_ilp_relaxed\")\n",
    "x=m.addVar(lb=0,ub=15, vtype=gp.GRB.INTEGER)\n",
    "y=m.addVar(lb=-gp.GRB.INFINITY,ub=gp.GRB.INFINITY, vtype=gp.GRB.INTEGER)\n",
    "m.addConstr(x+3*y <= 10)\n",
    "m.addConstr(-2*x+y <= 0)\n",
    "m.setObjective(x+y, gp.GRB.MAXIMIZE)\n",
    "m.optimize()\n",
    "print(x.x,y.x)"
   ]
  }
 ],
 "metadata": {
  "kernelspec": {
   "display_name": "Python 3",
   "language": "python",
   "name": "python3"
  },
  "language_info": {
   "codemirror_mode": {
    "name": "ipython",
    "version": 3
   },
   "file_extension": ".py",
   "mimetype": "text/x-python",
   "name": "python",
   "nbconvert_exporter": "python",
   "pygments_lexer": "ipython3",
   "version": "3.8.8"
  }
 },
 "nbformat": 4,
 "nbformat_minor": 2
}
